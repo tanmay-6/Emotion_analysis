{
 "cells": [
  {
   "cell_type": "markdown",
   "id": "52f9764a",
   "metadata": {},
   "source": [
    "# Sentiment Analysis "
   ]
  },
  {
   "cell_type": "markdown",
   "id": "6b7f83d6",
   "metadata": {},
   "source": [
    "Reading a text file. named text.txt"
   ]
  },
  {
   "cell_type": "code",
   "execution_count": 1,
   "id": "7035d0e9",
   "metadata": {},
   "outputs": [],
   "source": [
    "text=open('text.txt',encoding='utf-8').read()"
   ]
  },
  {
   "cell_type": "markdown",
   "id": "2280891a",
   "metadata": {},
   "source": [
    "text is a variable, open is a funtion to read files, text.txt is the name of file, .read is the funtion to read the content of the file, lower is a function that convert the text in lower case. used as <name>.lower() uses dot operator"
   ]
  },
  {
   "cell_type": "code",
   "execution_count": 2,
   "id": "2b7886c4",
   "metadata": {},
   "outputs": [
    {
     "name": "stdout",
     "output_type": "stream",
     "text": [
      "friends, here's a very inspiring speech by narayana murthy at the lbs institute of management. please read on....\n",
      "\n",
      "n.r. narayana murthy\n",
      "\n",
      "ladies and gentlemen:\n",
      "\n",
      "\n",
      "\n",
      "it is a pleasure to be here at the lal bahadur shastri institute of management. lal bahadur shastri was a man of strong values and he epitomized simple living. he was a freedom fighter and innovative administrator who contributed to nation building in full measure. it is indeed a matter of pride for me to be chosen for the lal bahadur shastri award for public administration and management sciences. i thank the jury for this honor.\n",
      "\n",
      "\n",
      "\n",
      "when i got the invitation to speak here, i decided to speak on an important topic on which i have pondered for years - the role of western values in contemporary indian society. coming from a company that is built on strong values, the topic is close to my heart. moreover, an organization is representative of society, and some of the lessons that i have learnt are applicable in the national context. in fact, values drive progress and define quality of life in society.\n",
      "\n",
      "\n",
      "\n",
      "the word community joins two latin words com (\"together\" or \"with\") and unus (\"one\"). a community, then, is both one and many. it is a unified multitude and not a mere group of people. as it is said in the vedas: man can live individually, but can survive only collectively. hence, the challenge is to form a progressive community by balancing the interests of the individual and that of the society. to meet this, we need to develop a value system where people accept modest sacrifices for the common good.\n",
      "\n",
      "\n",
      "\n",
      "what is a value system? it is the protocol for behavior that enhances the trust, confidence and commitment of members of the community. it goes beyond the domain of legality - it is about decent and desirable behavior. further, it includes putting the community interests ahead of your own. thus, our collective survival and progress is predicated on sound values.\n",
      "\n",
      "\n",
      "\n",
      "there are two pillars of the cultural value system - loyalty to family and loyalty to community. one should not be in isolation to the other, because, successful societies are those which combine both harmoniously. it is in this context that i will discuss the role of western values in contemporary indian society.\n",
      "\n",
      "\n",
      "\n",
      "some of you here might say that most of what i am going to discuss are actually indian values in old ages, and not western values. i live in the present, not in the bygone era. therefore, i have seen these values practiced primarily in the west and not in india. hence, the title of the topic.\n",
      "\n",
      "\n",
      "\n",
      "i am happy as long as we practice these values - whether we call it western or old indian values. as an indian, i am proud to be part of a culture, which has deep-rooted family values. we have tremendous loyalty to the family. for instance, parents make enormous sacrifices for their children. they support them until they can stand on their own feet. on the other side, children consider it their duty to take care of aged parents.\n",
      "\n",
      "\n",
      "\n",
      "we believe: mathru devo bhava - mother is god, and pithru devo bhava - father is god. further, brothers and sisters sacrifice for each other. in fact, the eldest brother or sister is respected by all the other siblings. as for marriage, it is held to be a sacred union - husband and wife are bonded, most often, for life. in joint families, the entire family works towards the welfare of the family. there is so much love and affection in our family life.\n",
      "\n",
      "\n",
      "\n",
      "this is the essence of indian values and one of our key strengths. our families act as a critical support mechanism for us. in fact, the credit to the success of infosys goes, as much to the founders as to their families, for supporting them through the tough times. unfortunately, our attitude towards family life is not reflected in our attitude towards community behavior. from littering the streets to corruption to breaking of contractual obligations, we are apathetic to the common good. in the west - the us, canada, europe, australia, new zealand - individuals understand that they have to be responsible towards their community.\n",
      "\n",
      "\n",
      "\n",
      "the primary difference between the west and us is that, there, people have a much better societal orientation. they care more for the society than we do. further, they generally sacrifice more for the society than us. quality of life is enhanced because of this. this is where we need to learn from the west.\n",
      "\n",
      "i will talk about some of the lessons that we, indians, can learn from the west.\n",
      "\n",
      "in the west, there is respect for the public good. for instance, parks free of litter, clean streets, public toilets free of graffiti - all these are instances of care for the public good. on the contrary, in india, we keep our houses clean and water our gardens everyday - but, when we go to a park, we do not think twice before littering the place.\n",
      "\n",
      "\n",
      "\n",
      "corruption, as we see in india, is another example of putting the interest of oneself, and at best that of one's family, above that of the society. society is relatively corruption free in the west. for instance, it is very difficult to bribe a police officer into avoiding a speeding ticket.\n",
      "\n",
      "\n",
      "\n",
      "this is because of the individual's responsible behavior towards the community as a whole on the contrary, in india, corruption, tax evasion, cheating and bribery have eaten into our vitals. for instance, contractors bribe officials, and construct low-quality roads and bridges. the result is that society loses in the form of substandard defence equipment and infrastructure, and low-quality recruitment, just to name a few impediments. unfortunately, this behavior is condoned by almost everyone.\n",
      "\n",
      "\n",
      "\n",
      "apathy in solving community matters has held us back from making progress, which is otherwise within our reach. we see serious problems around us but do not try to solve them. we behave as if the problems do not exist or is somebody else's. on the other hand, in the west, people solve societal problems proactively. there are several examples of our apathetic attitude. for instance, all of us are aware of the problem of drought in india.\n",
      "\n",
      "\n",
      "\n",
      "more than 40 years ago, dr. k. l. rao - an irrigation expert, suggested creation of a water grid connecting all the rivers in north and south india, to solve this problem. unfortunately, nothing has been done about this. the story of power shortage in bangalore is another instance. in 1983, it was decided to build a thermal power plant to meet bangalore's power requirements. unfortunately, we have still not started it. further, the milan subway in bombay is in a deplorable state for the last 40 years, and no action has been taken.\n",
      "\n",
      "\n",
      "\n",
      "to quote another example, considering the constant travel required in the software industry; five years ago, i had suggested a 240-page passport. this would eliminate frequent visits to the passport office. in fact, we are ready to pay for it. however, i am yet to hear from the ministry of external affairs on this.\n",
      "\n",
      "\n",
      "\n",
      "we, indians, would do well to remember thomas hunter's words: idleness travels very slowly, and poverty soon overtakes it. what could be the reason for all this? we were ruled by foreigners for over thousand years. thus, we have always believed that public issues belonged to some foreign ruler and that we have no role in solving them.\n",
      "\n",
      "\n",
      "\n",
      "moreover, we have lost the will to proactively solve our own problems. thus, we have got used to just executing someone else's orders. borrowing aristotle's words: we are what we repeatedly do. thus, having done this over the years, the decision-makers in our society are not trained for solving problems. our decision-makers look to somebody else to take decisions. unfortunately, there is nobody to look up to, and this is the tragedy.\n",
      "\n",
      "\n",
      "\n",
      "our intellectual arrogance has also not helped our society. i have traveled extensively, and in my experience, have not come across another society where people are as contemptuous of better societies as we are, with as little progress as we have achieved. remember that arrogance breeds hypocrisy. no other society gloats so much about the past as we do, with as little current accomplishment.\n",
      "\n",
      "\n",
      "\n",
      "friends, this is not a new phenomenon, but at least a thousand years old. for instance, al barouni, the famous arabic logician and traveler of the 10th century, who spent about 30 years in india from 997 ad to around 1027 ad, referred to this trait of indians. according to him, during his visit, most indian pundits considered it below their dignity even to hold arguments with him. in fact, on a few occasions when a pundit was willing to listen to hm, and found his arguments to be very sound, he invariably asked barouni: which indian pundit taught these smart things!\n",
      "\n",
      "\n",
      "\n",
      "the most important attribute of a progressive society is respect for others who have accomplished more than they themselves have, and learn from them. contrary to this, our leaders make us believe that other societies do not know anything! at the same time, everyday, in the newspapers, you will find numerous claims from our leaders that ours is the greatest nation. these people would do well to remember thomas carlyle's words: the greatest of faults is to be conscious of none.\n",
      "\n",
      "\n",
      "\n",
      "if we have to progress, we have to change this attitude, listen to people who have performed better than us, learn from them and perform better than them. infosys is a good example of such an attitude. we continue to rationalize our failures. no other society has mastered this part as well as we have. obviously, this is an excuse to justify our incompetence, corruption, and apathy. this attitude has to change. as sir josiah stamp has said: it is easy to dodge our responsibilities, but we cannot dodge the consequences of dodging our responsibilities.\n",
      "\n",
      "\n",
      "\n",
      "another interesting attribute, which we indians can learn from the west, is their accountability. irrespective of your position, in the west, you are held accountable for what you do. however, in india, the more 'important' you are, the less answerable you are. for instance, a senior politician once declared that he 'forgot' to file his tax returns for 10 consecutive years - and he got away with it. to quote another instance, there are over 100 loss making public sector units (central) in india. nevertheless, i have not seen action taken for bad performance against top managers in these organizations.\n",
      "\n",
      "\n",
      "\n",
      "dignity of labor is an integral part of the western value system. in the west, each person is proud about his or her labor that raises honest sweat. on the other hand, in india, we tend to overlook the significance of those who are not in professional jobs. we have a mind set that reveres only supposedly intellectual work.\n",
      "\n",
      "\n",
      "\n",
      "for instance, i have seen many engineers, fresh from college, who only want to do cutting-edge work and not work that is of relevance to business and the country. however, be it an organization or society, there are different people performing different roles. for success, all these people are required to discharge their duties. this includes everyone from the ceo to the person who serves tea - every role is important. hence, we need a mind set that reveres everyone who puts in honest work.\n",
      "\n",
      "\n",
      "\n",
      "indians become intimate even without being friendly. they ask favors of strangers without any hesitation. for instance, the other day, while i was traveling from bangalore to mantralaya, i met a fellow traveler on the train. hardly 5 minutes into the conversation, he requested me to speak to his md about removing him from the bottom 10% list in his company, earmarked for disciplinary action. i was reminded of what rudyard kipling once said: a westerner can be friendly without being intimate while an easterner tends to be intimate without being friendly.\n",
      "\n",
      "\n",
      "\n",
      "yet another lesson to be learnt from the west, is about their professionalism in dealings. the common good being more important than personal equations, people do not let personal relations interfere with their professional dealings. for instance, they don't hesitate to chastise a colleague, even if he is a personal friend, for incompetent work.\n",
      "\n",
      "\n",
      "\n",
      "in india, i have seen that we tend to view even work interactions from a personal perspective. further, we are the most 'thin-skinned' society in the world - we see insults where none is meant. this may be because we were not free for most of the last thousand years. further, we seem to extend this lack of professionalism to our sense of punctuality. we do not seem to respect the other person's time.\n",
      "\n",
      "\n",
      "\n",
      "the indian standard time somehow seems to be always running late. moreover, deadlines are typically not met. how many public projects are completed on time? the disheartening aspect is that we have accepted this as the norm rather than the exception. in the west, they show professionalism by embracing meritocracy. meritocracy by definition means that we cannot let personal prejudices affect our evaluation of an individual's performance. as we increasingly start to benchmark ourselves with global standards, we have to embrace meritocracy.\n",
      "\n",
      "\n",
      "\n",
      "in the west, right from a very young age, parents teach their children to be independent in thinking. thus, they grow up to be strong, confident individuals. in india, we still suffer from feudal thinking. i have seen people, who are otherwise bright, refusing to show independence and preferring to be told what to do by their boss. we need to overcome this attitude if we have to succeed globally.\n",
      "\n",
      "\n",
      "\n",
      "the western value system teaches respect to contractual obligation. in the west, contractual obligations are seldom dishonored. this is important - enforceability of legal rights and contracts is the most important factor in the enhancement of credibility of our people and nation.\n",
      "\n",
      "in india, we consider our marriage vows as sacred. we are willing to sacrifice in order to respect our marriage vows. however, we do not extend this to the public domain. for instance, india had an unfavorable contract with enron. instead of punishing the people responsible for negotiating this, we reneged on the contract - this was much before we came to know about the illegal activities at enron.\n",
      "\n",
      "\n",
      "\n",
      "to quote another instance, i had given recommendations to several students for the national scholarship for higher studies in us universities. most of them did not return to india even though contractually they were obliged to spend five years after their degree in india.\n",
      "\n",
      "\n",
      "\n",
      "in fact, according to a professor at a reputed us university, the maximum default rate for student loans is among indians - all of these students pass out in flying colors and land lucrative jobs, yet they refuse to pay back their loans. thus, their action has made it difficult for the students after them, from india, to obtain loans. we have to change this attitude.\n",
      "\n",
      "\n",
      "\n",
      "further, we indians do not display intellectual honesty. for example, our political leaders use mobile phones to tell journalists on the other side that they do not believe in technology! if we want our youngsters to progress, such hypocrisy must be stopped. we are all aware of our rights as citizens. nevertheless, we often fail to acknowledge the duty that accompanies every right. to borrow dwight eisenhower's words: people that values its privileges above its principles soon loses both. our duty is towards the community as a whole, as much as it is towards our families.\n",
      "\n",
      "\n",
      "\n",
      "we have to remember that fundamental social problems grow out of a lack of commitment to the common good. to quote henry beecher: culture is that which helps us to work for the betterment of all. hence, friends, i do believe that we can make our society even better by assimilating these western values into our own culture - we will be stronger for it.\n",
      "\n",
      "\n",
      "\n",
      "most of our behavior comes from greed, lack of self-confidence, lack of confidence in the nation, and lack of respect for the society. to borrow gandhi's words: there is enough in this world for everyone's need, but not enough for everyone's greed. let us work towards a society where we would do unto others what we would have others do unto us. let us all be responsible citizens who make our country a great place to live. in the words of churchill: responsibility is the price of greatness. we have to extend our family values beyond the boundaries of our home.\n",
      "\n",
      "\n",
      "\n",
      "finally, let us work towards maximum welfare of the maximum people - samasta janaanaam sukhino bhavantu. thus, let us - people of this generation, conduct ourselves as great citizens rather than just good people so that we can serve as good examples for our younger generation. - speaker : n r narayana murthy\n",
      "\n",
      "cheers\n"
     ]
    }
   ],
   "source": [
    "lower_text = text.lower()\n",
    "print(lower_text)"
   ]
  },
  {
   "cell_type": "code",
   "execution_count": 3,
   "id": "fa639702",
   "metadata": {},
   "outputs": [
    {
     "name": "stdout",
     "output_type": "stream",
     "text": [
      "!\"#$%&'()*+,-./:;<=>?@[\\]^_`{|}~\n"
     ]
    }
   ],
   "source": [
    "#python has punctuations in strings and can be accessed by <import string>, These punctuations are to be removed before furthur processing the text.\n",
    "import string\n",
    "print(string.punctuation)"
   ]
  },
  {
   "cell_type": "code",
   "execution_count": 4,
   "id": "f834333d",
   "metadata": {},
   "outputs": [
    {
     "name": "stdout",
     "output_type": "stream",
     "text": [
      "friends heres a very inspiring speech by narayana murthy at the lbs institute of management please read on\n",
      "\n",
      "nr narayana murthy\n",
      "\n",
      "ladies and gentlemen\n",
      "\n",
      "\n",
      "\n",
      "it is a pleasure to be here at the lal bahadur shastri institute of management lal bahadur shastri was a man of strong values and he epitomized simple living he was a freedom fighter and innovative administrator who contributed to nation building in full measure it is indeed a matter of pride for me to be chosen for the lal bahadur shastri award for public administration and management sciences i thank the jury for this honor\n",
      "\n",
      "\n",
      "\n",
      "when i got the invitation to speak here i decided to speak on an important topic on which i have pondered for years  the role of western values in contemporary indian society coming from a company that is built on strong values the topic is close to my heart moreover an organization is representative of society and some of the lessons that i have learnt are applicable in the national context in fact values drive progress and define quality of life in society\n",
      "\n",
      "\n",
      "\n",
      "the word community joins two latin words com together or with and unus one a community then is both one and many it is a unified multitude and not a mere group of people as it is said in the vedas man can live individually but can survive only collectively hence the challenge is to form a progressive community by balancing the interests of the individual and that of the society to meet this we need to develop a value system where people accept modest sacrifices for the common good\n",
      "\n",
      "\n",
      "\n",
      "what is a value system it is the protocol for behavior that enhances the trust confidence and commitment of members of the community it goes beyond the domain of legality  it is about decent and desirable behavior further it includes putting the community interests ahead of your own thus our collective survival and progress is predicated on sound values\n",
      "\n",
      "\n",
      "\n",
      "there are two pillars of the cultural value system  loyalty to family and loyalty to community one should not be in isolation to the other because successful societies are those which combine both harmoniously it is in this context that i will discuss the role of western values in contemporary indian society\n",
      "\n",
      "\n",
      "\n",
      "some of you here might say that most of what i am going to discuss are actually indian values in old ages and not western values i live in the present not in the bygone era therefore i have seen these values practiced primarily in the west and not in india hence the title of the topic\n",
      "\n",
      "\n",
      "\n",
      "i am happy as long as we practice these values  whether we call it western or old indian values as an indian i am proud to be part of a culture which has deeprooted family values we have tremendous loyalty to the family for instance parents make enormous sacrifices for their children they support them until they can stand on their own feet on the other side children consider it their duty to take care of aged parents\n",
      "\n",
      "\n",
      "\n",
      "we believe mathru devo bhava  mother is god and pithru devo bhava  father is god further brothers and sisters sacrifice for each other in fact the eldest brother or sister is respected by all the other siblings as for marriage it is held to be a sacred union  husband and wife are bonded most often for life in joint families the entire family works towards the welfare of the family there is so much love and affection in our family life\n",
      "\n",
      "\n",
      "\n",
      "this is the essence of indian values and one of our key strengths our families act as a critical support mechanism for us in fact the credit to the success of infosys goes as much to the founders as to their families for supporting them through the tough times unfortunately our attitude towards family life is not reflected in our attitude towards community behavior from littering the streets to corruption to breaking of contractual obligations we are apathetic to the common good in the west  the us canada europe australia new zealand  individuals understand that they have to be responsible towards their community\n",
      "\n",
      "\n",
      "\n",
      "the primary difference between the west and us is that there people have a much better societal orientation they care more for the society than we do further they generally sacrifice more for the society than us quality of life is enhanced because of this this is where we need to learn from the west\n",
      "\n",
      "i will talk about some of the lessons that we indians can learn from the west\n",
      "\n",
      "in the west there is respect for the public good for instance parks free of litter clean streets public toilets free of graffiti  all these are instances of care for the public good on the contrary in india we keep our houses clean and water our gardens everyday  but when we go to a park we do not think twice before littering the place\n",
      "\n",
      "\n",
      "\n",
      "corruption as we see in india is another example of putting the interest of oneself and at best that of ones family above that of the society society is relatively corruption free in the west for instance it is very difficult to bribe a police officer into avoiding a speeding ticket\n",
      "\n",
      "\n",
      "\n",
      "this is because of the individuals responsible behavior towards the community as a whole on the contrary in india corruption tax evasion cheating and bribery have eaten into our vitals for instance contractors bribe officials and construct lowquality roads and bridges the result is that society loses in the form of substandard defence equipment and infrastructure and lowquality recruitment just to name a few impediments unfortunately this behavior is condoned by almost everyone\n",
      "\n",
      "\n",
      "\n",
      "apathy in solving community matters has held us back from making progress which is otherwise within our reach we see serious problems around us but do not try to solve them we behave as if the problems do not exist or is somebody elses on the other hand in the west people solve societal problems proactively there are several examples of our apathetic attitude for instance all of us are aware of the problem of drought in india\n",
      "\n",
      "\n",
      "\n",
      "more than 40 years ago dr k l rao  an irrigation expert suggested creation of a water grid connecting all the rivers in north and south india to solve this problem unfortunately nothing has been done about this the story of power shortage in bangalore is another instance in 1983 it was decided to build a thermal power plant to meet bangalores power requirements unfortunately we have still not started it further the milan subway in bombay is in a deplorable state for the last 40 years and no action has been taken\n",
      "\n",
      "\n",
      "\n",
      "to quote another example considering the constant travel required in the software industry five years ago i had suggested a 240page passport this would eliminate frequent visits to the passport office in fact we are ready to pay for it however i am yet to hear from the ministry of external affairs on this\n",
      "\n",
      "\n",
      "\n",
      "we indians would do well to remember thomas hunters words idleness travels very slowly and poverty soon overtakes it what could be the reason for all this we were ruled by foreigners for over thousand years thus we have always believed that public issues belonged to some foreign ruler and that we have no role in solving them\n",
      "\n",
      "\n",
      "\n",
      "moreover we have lost the will to proactively solve our own problems thus we have got used to just executing someone elses orders borrowing aristotles words we are what we repeatedly do thus having done this over the years the decisionmakers in our society are not trained for solving problems our decisionmakers look to somebody else to take decisions unfortunately there is nobody to look up to and this is the tragedy\n",
      "\n",
      "\n",
      "\n",
      "our intellectual arrogance has also not helped our society i have traveled extensively and in my experience have not come across another society where people are as contemptuous of better societies as we are with as little progress as we have achieved remember that arrogance breeds hypocrisy no other society gloats so much about the past as we do with as little current accomplishment\n",
      "\n",
      "\n",
      "\n",
      "friends this is not a new phenomenon but at least a thousand years old for instance al barouni the famous arabic logician and traveler of the 10th century who spent about 30 years in india from 997 ad to around 1027 ad referred to this trait of indians according to him during his visit most indian pundits considered it below their dignity even to hold arguments with him in fact on a few occasions when a pundit was willing to listen to hm and found his arguments to be very sound he invariably asked barouni which indian pundit taught these smart things\n",
      "\n",
      "\n",
      "\n",
      "the most important attribute of a progressive society is respect for others who have accomplished more than they themselves have and learn from them contrary to this our leaders make us believe that other societies do not know anything at the same time everyday in the newspapers you will find numerous claims from our leaders that ours is the greatest nation these people would do well to remember thomas carlyles words the greatest of faults is to be conscious of none\n",
      "\n",
      "\n",
      "\n",
      "if we have to progress we have to change this attitude listen to people who have performed better than us learn from them and perform better than them infosys is a good example of such an attitude we continue to rationalize our failures no other society has mastered this part as well as we have obviously this is an excuse to justify our incompetence corruption and apathy this attitude has to change as sir josiah stamp has said it is easy to dodge our responsibilities but we cannot dodge the consequences of dodging our responsibilities\n",
      "\n",
      "\n",
      "\n",
      "another interesting attribute which we indians can learn from the west is their accountability irrespective of your position in the west you are held accountable for what you do however in india the more important you are the less answerable you are for instance a senior politician once declared that he forgot to file his tax returns for 10 consecutive years  and he got away with it to quote another instance there are over 100 loss making public sector units central in india nevertheless i have not seen action taken for bad performance against top managers in these organizations\n",
      "\n",
      "\n",
      "\n",
      "dignity of labor is an integral part of the western value system in the west each person is proud about his or her labor that raises honest sweat on the other hand in india we tend to overlook the significance of those who are not in professional jobs we have a mind set that reveres only supposedly intellectual work\n",
      "\n",
      "\n",
      "\n",
      "for instance i have seen many engineers fresh from college who only want to do cuttingedge work and not work that is of relevance to business and the country however be it an organization or society there are different people performing different roles for success all these people are required to discharge their duties this includes everyone from the ceo to the person who serves tea  every role is important hence we need a mind set that reveres everyone who puts in honest work\n",
      "\n",
      "\n",
      "\n",
      "indians become intimate even without being friendly they ask favors of strangers without any hesitation for instance the other day while i was traveling from bangalore to mantralaya i met a fellow traveler on the train hardly 5 minutes into the conversation he requested me to speak to his md about removing him from the bottom 10 list in his company earmarked for disciplinary action i was reminded of what rudyard kipling once said a westerner can be friendly without being intimate while an easterner tends to be intimate without being friendly\n",
      "\n",
      "\n",
      "\n",
      "yet another lesson to be learnt from the west is about their professionalism in dealings the common good being more important than personal equations people do not let personal relations interfere with their professional dealings for instance they dont hesitate to chastise a colleague even if he is a personal friend for incompetent work\n",
      "\n",
      "\n",
      "\n",
      "in india i have seen that we tend to view even work interactions from a personal perspective further we are the most thinskinned society in the world  we see insults where none is meant this may be because we were not free for most of the last thousand years further we seem to extend this lack of professionalism to our sense of punctuality we do not seem to respect the other persons time\n",
      "\n",
      "\n",
      "\n",
      "the indian standard time somehow seems to be always running late moreover deadlines are typically not met how many public projects are completed on time the disheartening aspect is that we have accepted this as the norm rather than the exception in the west they show professionalism by embracing meritocracy meritocracy by definition means that we cannot let personal prejudices affect our evaluation of an individuals performance as we increasingly start to benchmark ourselves with global standards we have to embrace meritocracy\n",
      "\n",
      "\n",
      "\n",
      "in the west right from a very young age parents teach their children to be independent in thinking thus they grow up to be strong confident individuals in india we still suffer from feudal thinking i have seen people who are otherwise bright refusing to show independence and preferring to be told what to do by their boss we need to overcome this attitude if we have to succeed globally\n",
      "\n",
      "\n",
      "\n",
      "the western value system teaches respect to contractual obligation in the west contractual obligations are seldom dishonored this is important  enforceability of legal rights and contracts is the most important factor in the enhancement of credibility of our people and nation\n",
      "\n",
      "in india we consider our marriage vows as sacred we are willing to sacrifice in order to respect our marriage vows however we do not extend this to the public domain for instance india had an unfavorable contract with enron instead of punishing the people responsible for negotiating this we reneged on the contract  this was much before we came to know about the illegal activities at enron\n",
      "\n",
      "\n",
      "\n",
      "to quote another instance i had given recommendations to several students for the national scholarship for higher studies in us universities most of them did not return to india even though contractually they were obliged to spend five years after their degree in india\n",
      "\n",
      "\n",
      "\n",
      "in fact according to a professor at a reputed us university the maximum default rate for student loans is among indians  all of these students pass out in flying colors and land lucrative jobs yet they refuse to pay back their loans thus their action has made it difficult for the students after them from india to obtain loans we have to change this attitude\n",
      "\n",
      "\n",
      "\n",
      "further we indians do not display intellectual honesty for example our political leaders use mobile phones to tell journalists on the other side that they do not believe in technology if we want our youngsters to progress such hypocrisy must be stopped we are all aware of our rights as citizens nevertheless we often fail to acknowledge the duty that accompanies every right to borrow dwight eisenhowers words people that values its privileges above its principles soon loses both our duty is towards the community as a whole as much as it is towards our families\n",
      "\n",
      "\n",
      "\n",
      "we have to remember that fundamental social problems grow out of a lack of commitment to the common good to quote henry beecher culture is that which helps us to work for the betterment of all hence friends i do believe that we can make our society even better by assimilating these western values into our own culture  we will be stronger for it\n",
      "\n",
      "\n",
      "\n",
      "most of our behavior comes from greed lack of selfconfidence lack of confidence in the nation and lack of respect for the society to borrow gandhis words there is enough in this world for everyones need but not enough for everyones greed let us work towards a society where we would do unto others what we would have others do unto us let us all be responsible citizens who make our country a great place to live in the words of churchill responsibility is the price of greatness we have to extend our family values beyond the boundaries of our home\n",
      "\n",
      "\n",
      "\n",
      "finally let us work towards maximum welfare of the maximum people  samasta janaanaam sukhino bhavantu thus let us  people of this generation conduct ourselves as great citizens rather than just good people so that we can serve as good examples for our younger generation  speaker  n r narayana murthy\n",
      "\n",
      "cheers\n"
     ]
    }
   ],
   "source": [
    "cleaned_text = lower_text.translate(str.maketrans('','',string.punctuation))\n",
    "print(cleaned_text)"
   ]
  },
  {
   "cell_type": "markdown",
   "id": "7d14d4de",
   "metadata": {},
   "source": [
    "the translate funtion takes here a text which is given by another funtion named maketrans which take 3 arguments.\n",
    "1 text to be replaced\n",
    "2 what to replace\n",
    "3 characters to be deleted"
   ]
  },
  {
   "cell_type": "markdown",
   "id": "c8c8d544",
   "metadata": {},
   "source": [
    "# Tokenization\n",
    "breaking a sentence into meaningfull words (tokens). \n",
    "there are stop words which do not contain meaning for analysis."
   ]
  },
  {
   "cell_type": "code",
   "execution_count": 5,
   "id": "15301f41",
   "metadata": {},
   "outputs": [
    {
     "name": "stdout",
     "output_type": "stream",
     "text": [
      "['friends', 'heres', 'a', 'very', 'inspiring', 'speech', 'by', 'narayana', 'murthy', 'at', 'the', 'lbs', 'institute', 'of', 'management', 'please', 'read', 'on', 'nr', 'narayana', 'murthy', 'ladies', 'and', 'gentlemen', 'it', 'is', 'a', 'pleasure', 'to', 'be', 'here', 'at', 'the', 'lal', 'bahadur', 'shastri', 'institute', 'of', 'management', 'lal', 'bahadur', 'shastri', 'was', 'a', 'man', 'of', 'strong', 'values', 'and', 'he', 'epitomized', 'simple', 'living', 'he', 'was', 'a', 'freedom', 'fighter', 'and', 'innovative', 'administrator', 'who', 'contributed', 'to', 'nation', 'building', 'in', 'full', 'measure', 'it', 'is', 'indeed', 'a', 'matter', 'of', 'pride', 'for', 'me', 'to', 'be', 'chosen', 'for', 'the', 'lal', 'bahadur', 'shastri', 'award', 'for', 'public', 'administration', 'and', 'management', 'sciences', 'i', 'thank', 'the', 'jury', 'for', 'this', 'honor', 'when', 'i', 'got', 'the', 'invitation', 'to', 'speak', 'here', 'i', 'decided', 'to', 'speak', 'on', 'an', 'important', 'topic', 'on', 'which', 'i', 'have', 'pondered', 'for', 'years', 'the', 'role', 'of', 'western', 'values', 'in', 'contemporary', 'indian', 'society', 'coming', 'from', 'a', 'company', 'that', 'is', 'built', 'on', 'strong', 'values', 'the', 'topic', 'is', 'close', 'to', 'my', 'heart', 'moreover', 'an', 'organization', 'is', 'representative', 'of', 'society', 'and', 'some', 'of', 'the', 'lessons', 'that', 'i', 'have', 'learnt', 'are', 'applicable', 'in', 'the', 'national', 'context', 'in', 'fact', 'values', 'drive', 'progress', 'and', 'define', 'quality', 'of', 'life', 'in', 'society', 'the', 'word', 'community', 'joins', 'two', 'latin', 'words', 'com', 'together', 'or', 'with', 'and', 'unus', 'one', 'a', 'community', 'then', 'is', 'both', 'one', 'and', 'many', 'it', 'is', 'a', 'unified', 'multitude', 'and', 'not', 'a', 'mere', 'group', 'of', 'people', 'as', 'it', 'is', 'said', 'in', 'the', 'vedas', 'man', 'can', 'live', 'individually', 'but', 'can', 'survive', 'only', 'collectively', 'hence', 'the', 'challenge', 'is', 'to', 'form', 'a', 'progressive', 'community', 'by', 'balancing', 'the', 'interests', 'of', 'the', 'individual', 'and', 'that', 'of', 'the', 'society', 'to', 'meet', 'this', 'we', 'need', 'to', 'develop', 'a', 'value', 'system', 'where', 'people', 'accept', 'modest', 'sacrifices', 'for', 'the', 'common', 'good', 'what', 'is', 'a', 'value', 'system', 'it', 'is', 'the', 'protocol', 'for', 'behavior', 'that', 'enhances', 'the', 'trust', 'confidence', 'and', 'commitment', 'of', 'members', 'of', 'the', 'community', 'it', 'goes', 'beyond', 'the', 'domain', 'of', 'legality', 'it', 'is', 'about', 'decent', 'and', 'desirable', 'behavior', 'further', 'it', 'includes', 'putting', 'the', 'community', 'interests', 'ahead', 'of', 'your', 'own', 'thus', 'our', 'collective', 'survival', 'and', 'progress', 'is', 'predicated', 'on', 'sound', 'values', 'there', 'are', 'two', 'pillars', 'of', 'the', 'cultural', 'value', 'system', 'loyalty', 'to', 'family', 'and', 'loyalty', 'to', 'community', 'one', 'should', 'not', 'be', 'in', 'isolation', 'to', 'the', 'other', 'because', 'successful', 'societies', 'are', 'those', 'which', 'combine', 'both', 'harmoniously', 'it', 'is', 'in', 'this', 'context', 'that', 'i', 'will', 'discuss', 'the', 'role', 'of', 'western', 'values', 'in', 'contemporary', 'indian', 'society', 'some', 'of', 'you', 'here', 'might', 'say', 'that', 'most', 'of', 'what', 'i', 'am', 'going', 'to', 'discuss', 'are', 'actually', 'indian', 'values', 'in', 'old', 'ages', 'and', 'not', 'western', 'values', 'i', 'live', 'in', 'the', 'present', 'not', 'in', 'the', 'bygone', 'era', 'therefore', 'i', 'have', 'seen', 'these', 'values', 'practiced', 'primarily', 'in', 'the', 'west', 'and', 'not', 'in', 'india', 'hence', 'the', 'title', 'of', 'the', 'topic', 'i', 'am', 'happy', 'as', 'long', 'as', 'we', 'practice', 'these', 'values', 'whether', 'we', 'call', 'it', 'western', 'or', 'old', 'indian', 'values', 'as', 'an', 'indian', 'i', 'am', 'proud', 'to', 'be', 'part', 'of', 'a', 'culture', 'which', 'has', 'deeprooted', 'family', 'values', 'we', 'have', 'tremendous', 'loyalty', 'to', 'the', 'family', 'for', 'instance', 'parents', 'make', 'enormous', 'sacrifices', 'for', 'their', 'children', 'they', 'support', 'them', 'until', 'they', 'can', 'stand', 'on', 'their', 'own', 'feet', 'on', 'the', 'other', 'side', 'children', 'consider', 'it', 'their', 'duty', 'to', 'take', 'care', 'of', 'aged', 'parents', 'we', 'believe', 'mathru', 'devo', 'bhava', 'mother', 'is', 'god', 'and', 'pithru', 'devo', 'bhava', 'father', 'is', 'god', 'further', 'brothers', 'and', 'sisters', 'sacrifice', 'for', 'each', 'other', 'in', 'fact', 'the', 'eldest', 'brother', 'or', 'sister', 'is', 'respected', 'by', 'all', 'the', 'other', 'siblings', 'as', 'for', 'marriage', 'it', 'is', 'held', 'to', 'be', 'a', 'sacred', 'union', 'husband', 'and', 'wife', 'are', 'bonded', 'most', 'often', 'for', 'life', 'in', 'joint', 'families', 'the', 'entire', 'family', 'works', 'towards', 'the', 'welfare', 'of', 'the', 'family', 'there', 'is', 'so', 'much', 'love', 'and', 'affection', 'in', 'our', 'family', 'life', 'this', 'is', 'the', 'essence', 'of', 'indian', 'values', 'and', 'one', 'of', 'our', 'key', 'strengths', 'our', 'families', 'act', 'as', 'a', 'critical', 'support', 'mechanism', 'for', 'us', 'in', 'fact', 'the', 'credit', 'to', 'the', 'success', 'of', 'infosys', 'goes', 'as', 'much', 'to', 'the', 'founders', 'as', 'to', 'their', 'families', 'for', 'supporting', 'them', 'through', 'the', 'tough', 'times', 'unfortunately', 'our', 'attitude', 'towards', 'family', 'life', 'is', 'not', 'reflected', 'in', 'our', 'attitude', 'towards', 'community', 'behavior', 'from', 'littering', 'the', 'streets', 'to', 'corruption', 'to', 'breaking', 'of', 'contractual', 'obligations', 'we', 'are', 'apathetic', 'to', 'the', 'common', 'good', 'in', 'the', 'west', 'the', 'us', 'canada', 'europe', 'australia', 'new', 'zealand', 'individuals', 'understand', 'that', 'they', 'have', 'to', 'be', 'responsible', 'towards', 'their', 'community', 'the', 'primary', 'difference', 'between', 'the', 'west', 'and', 'us', 'is', 'that', 'there', 'people', 'have', 'a', 'much', 'better', 'societal', 'orientation', 'they', 'care', 'more', 'for', 'the', 'society', 'than', 'we', 'do', 'further', 'they', 'generally', 'sacrifice', 'more', 'for', 'the', 'society', 'than', 'us', 'quality', 'of', 'life', 'is', 'enhanced', 'because', 'of', 'this', 'this', 'is', 'where', 'we', 'need', 'to', 'learn', 'from', 'the', 'west', 'i', 'will', 'talk', 'about', 'some', 'of', 'the', 'lessons', 'that', 'we', 'indians', 'can', 'learn', 'from', 'the', 'west', 'in', 'the', 'west', 'there', 'is', 'respect', 'for', 'the', 'public', 'good', 'for', 'instance', 'parks', 'free', 'of', 'litter', 'clean', 'streets', 'public', 'toilets', 'free', 'of', 'graffiti', 'all', 'these', 'are', 'instances', 'of', 'care', 'for', 'the', 'public', 'good', 'on', 'the', 'contrary', 'in', 'india', 'we', 'keep', 'our', 'houses', 'clean', 'and', 'water', 'our', 'gardens', 'everyday', 'but', 'when', 'we', 'go', 'to', 'a', 'park', 'we', 'do', 'not', 'think', 'twice', 'before', 'littering', 'the', 'place', 'corruption', 'as', 'we', 'see', 'in', 'india', 'is', 'another', 'example', 'of', 'putting', 'the', 'interest', 'of', 'oneself', 'and', 'at', 'best', 'that', 'of', 'ones', 'family', 'above', 'that', 'of', 'the', 'society', 'society', 'is', 'relatively', 'corruption', 'free', 'in', 'the', 'west', 'for', 'instance', 'it', 'is', 'very', 'difficult', 'to', 'bribe', 'a', 'police', 'officer', 'into', 'avoiding', 'a', 'speeding', 'ticket', 'this', 'is', 'because', 'of', 'the', 'individuals', 'responsible', 'behavior', 'towards', 'the', 'community', 'as', 'a', 'whole', 'on', 'the', 'contrary', 'in', 'india', 'corruption', 'tax', 'evasion', 'cheating', 'and', 'bribery', 'have', 'eaten', 'into', 'our', 'vitals', 'for', 'instance', 'contractors', 'bribe', 'officials', 'and', 'construct', 'lowquality', 'roads', 'and', 'bridges', 'the', 'result', 'is', 'that', 'society', 'loses', 'in', 'the', 'form', 'of', 'substandard', 'defence', 'equipment', 'and', 'infrastructure', 'and', 'lowquality', 'recruitment', 'just', 'to', 'name', 'a', 'few', 'impediments', 'unfortunately', 'this', 'behavior', 'is', 'condoned', 'by', 'almost', 'everyone', 'apathy', 'in', 'solving', 'community', 'matters', 'has', 'held', 'us', 'back', 'from', 'making', 'progress', 'which', 'is', 'otherwise', 'within', 'our', 'reach', 'we', 'see', 'serious', 'problems', 'around', 'us', 'but', 'do', 'not', 'try', 'to', 'solve', 'them', 'we', 'behave', 'as', 'if', 'the', 'problems', 'do', 'not', 'exist', 'or', 'is', 'somebody', 'elses', 'on', 'the', 'other', 'hand', 'in', 'the', 'west', 'people', 'solve', 'societal', 'problems', 'proactively', 'there', 'are', 'several', 'examples', 'of', 'our', 'apathetic', 'attitude', 'for', 'instance', 'all', 'of', 'us', 'are', 'aware', 'of', 'the', 'problem', 'of', 'drought', 'in', 'india', 'more', 'than', '40', 'years', 'ago', 'dr', 'k', 'l', 'rao', 'an', 'irrigation', 'expert', 'suggested', 'creation', 'of', 'a', 'water', 'grid', 'connecting', 'all', 'the', 'rivers', 'in', 'north', 'and', 'south', 'india', 'to', 'solve', 'this', 'problem', 'unfortunately', 'nothing', 'has', 'been', 'done', 'about', 'this', 'the', 'story', 'of', 'power', 'shortage', 'in', 'bangalore', 'is', 'another', 'instance', 'in', '1983', 'it', 'was', 'decided', 'to', 'build', 'a', 'thermal', 'power', 'plant', 'to', 'meet', 'bangalores', 'power', 'requirements', 'unfortunately', 'we', 'have', 'still', 'not', 'started', 'it', 'further', 'the', 'milan', 'subway', 'in', 'bombay', 'is', 'in', 'a', 'deplorable', 'state', 'for', 'the', 'last', '40', 'years', 'and', 'no', 'action', 'has', 'been', 'taken', 'to', 'quote', 'another', 'example', 'considering', 'the', 'constant', 'travel', 'required', 'in', 'the', 'software', 'industry', 'five', 'years', 'ago', 'i', 'had', 'suggested', 'a', '240page', 'passport', 'this', 'would', 'eliminate', 'frequent', 'visits', 'to', 'the', 'passport', 'office', 'in', 'fact', 'we', 'are', 'ready', 'to', 'pay', 'for', 'it', 'however', 'i', 'am', 'yet', 'to', 'hear', 'from', 'the', 'ministry', 'of', 'external', 'affairs', 'on', 'this', 'we', 'indians', 'would', 'do', 'well', 'to', 'remember', 'thomas', 'hunters', 'words', 'idleness', 'travels', 'very', 'slowly', 'and', 'poverty', 'soon', 'overtakes', 'it', 'what', 'could', 'be', 'the', 'reason', 'for', 'all', 'this', 'we', 'were', 'ruled', 'by', 'foreigners', 'for', 'over', 'thousand', 'years', 'thus', 'we', 'have', 'always', 'believed', 'that', 'public', 'issues', 'belonged', 'to', 'some', 'foreign', 'ruler', 'and', 'that', 'we', 'have', 'no', 'role', 'in', 'solving', 'them', 'moreover', 'we', 'have', 'lost', 'the', 'will', 'to', 'proactively', 'solve', 'our', 'own', 'problems', 'thus', 'we', 'have', 'got', 'used', 'to', 'just', 'executing', 'someone', 'elses', 'orders', 'borrowing', 'aristotles', 'words', 'we', 'are', 'what', 'we', 'repeatedly', 'do', 'thus', 'having', 'done', 'this', 'over', 'the', 'years', 'the', 'decisionmakers', 'in', 'our', 'society', 'are', 'not', 'trained', 'for', 'solving', 'problems', 'our', 'decisionmakers', 'look', 'to', 'somebody', 'else', 'to', 'take', 'decisions', 'unfortunately', 'there', 'is', 'nobody', 'to', 'look', 'up', 'to', 'and', 'this', 'is', 'the', 'tragedy', 'our', 'intellectual', 'arrogance', 'has', 'also', 'not', 'helped', 'our', 'society', 'i', 'have', 'traveled', 'extensively', 'and', 'in', 'my', 'experience', 'have', 'not', 'come', 'across', 'another', 'society', 'where', 'people', 'are', 'as', 'contemptuous', 'of', 'better', 'societies', 'as', 'we', 'are', 'with', 'as', 'little', 'progress', 'as', 'we', 'have', 'achieved', 'remember', 'that', 'arrogance', 'breeds', 'hypocrisy', 'no', 'other', 'society', 'gloats', 'so', 'much', 'about', 'the', 'past', 'as', 'we', 'do', 'with', 'as', 'little', 'current', 'accomplishment', 'friends', 'this', 'is', 'not', 'a', 'new', 'phenomenon', 'but', 'at', 'least', 'a', 'thousand', 'years', 'old', 'for', 'instance', 'al', 'barouni', 'the', 'famous', 'arabic', 'logician', 'and', 'traveler', 'of', 'the', '10th', 'century', 'who', 'spent', 'about', '30', 'years', 'in', 'india', 'from', '997', 'ad', 'to', 'around', '1027', 'ad', 'referred', 'to', 'this', 'trait', 'of', 'indians', 'according', 'to', 'him', 'during', 'his', 'visit', 'most', 'indian', 'pundits', 'considered', 'it', 'below', 'their', 'dignity', 'even', 'to', 'hold', 'arguments', 'with', 'him', 'in', 'fact', 'on', 'a', 'few', 'occasions', 'when', 'a', 'pundit', 'was', 'willing', 'to', 'listen', 'to', 'hm', 'and', 'found', 'his', 'arguments', 'to', 'be', 'very', 'sound', 'he', 'invariably', 'asked', 'barouni', 'which', 'indian', 'pundit', 'taught', 'these', 'smart', 'things', 'the', 'most', 'important', 'attribute', 'of', 'a', 'progressive', 'society', 'is', 'respect', 'for', 'others', 'who', 'have', 'accomplished', 'more', 'than', 'they', 'themselves', 'have', 'and', 'learn', 'from', 'them', 'contrary', 'to', 'this', 'our', 'leaders', 'make', 'us', 'believe', 'that', 'other', 'societies', 'do', 'not', 'know', 'anything', 'at', 'the', 'same', 'time', 'everyday', 'in', 'the', 'newspapers', 'you', 'will', 'find', 'numerous', 'claims', 'from', 'our', 'leaders', 'that', 'ours', 'is', 'the', 'greatest', 'nation', 'these', 'people', 'would', 'do', 'well', 'to', 'remember', 'thomas', 'carlyles', 'words', 'the', 'greatest', 'of', 'faults', 'is', 'to', 'be', 'conscious', 'of', 'none', 'if', 'we', 'have', 'to', 'progress', 'we', 'have', 'to', 'change', 'this', 'attitude', 'listen', 'to', 'people', 'who', 'have', 'performed', 'better', 'than', 'us', 'learn', 'from', 'them', 'and', 'perform', 'better', 'than', 'them', 'infosys', 'is', 'a', 'good', 'example', 'of', 'such', 'an', 'attitude', 'we', 'continue', 'to', 'rationalize', 'our', 'failures', 'no', 'other', 'society', 'has', 'mastered', 'this', 'part', 'as', 'well', 'as', 'we', 'have', 'obviously', 'this', 'is', 'an', 'excuse', 'to', 'justify', 'our', 'incompetence', 'corruption', 'and', 'apathy', 'this', 'attitude', 'has', 'to', 'change', 'as', 'sir', 'josiah', 'stamp', 'has', 'said', 'it', 'is', 'easy', 'to', 'dodge', 'our', 'responsibilities', 'but', 'we', 'cannot', 'dodge', 'the', 'consequences', 'of', 'dodging', 'our', 'responsibilities', 'another', 'interesting', 'attribute', 'which', 'we', 'indians', 'can', 'learn', 'from', 'the', 'west', 'is', 'their', 'accountability', 'irrespective', 'of', 'your', 'position', 'in', 'the', 'west', 'you', 'are', 'held', 'accountable', 'for', 'what', 'you', 'do', 'however', 'in', 'india', 'the', 'more', 'important', 'you', 'are', 'the', 'less', 'answerable', 'you', 'are', 'for', 'instance', 'a', 'senior', 'politician', 'once', 'declared', 'that', 'he', 'forgot', 'to', 'file', 'his', 'tax', 'returns', 'for', '10', 'consecutive', 'years', 'and', 'he', 'got', 'away', 'with', 'it', 'to', 'quote', 'another', 'instance', 'there', 'are', 'over', '100', 'loss', 'making', 'public', 'sector', 'units', 'central', 'in', 'india', 'nevertheless', 'i', 'have', 'not', 'seen', 'action', 'taken', 'for', 'bad', 'performance', 'against', 'top', 'managers', 'in', 'these', 'organizations', 'dignity', 'of', 'labor', 'is', 'an', 'integral', 'part', 'of', 'the', 'western', 'value', 'system', 'in', 'the', 'west', 'each', 'person', 'is', 'proud', 'about', 'his', 'or', 'her', 'labor', 'that', 'raises', 'honest', 'sweat', 'on', 'the', 'other', 'hand', 'in', 'india', 'we', 'tend', 'to', 'overlook', 'the', 'significance', 'of', 'those', 'who', 'are', 'not', 'in', 'professional', 'jobs', 'we', 'have', 'a', 'mind', 'set', 'that', 'reveres', 'only', 'supposedly', 'intellectual', 'work', 'for', 'instance', 'i', 'have', 'seen', 'many', 'engineers', 'fresh', 'from', 'college', 'who', 'only', 'want', 'to', 'do', 'cuttingedge', 'work', 'and', 'not', 'work', 'that', 'is', 'of', 'relevance', 'to', 'business', 'and', 'the', 'country', 'however', 'be', 'it', 'an', 'organization', 'or', 'society', 'there', 'are', 'different', 'people', 'performing', 'different', 'roles', 'for', 'success', 'all', 'these', 'people', 'are', 'required', 'to', 'discharge', 'their', 'duties', 'this', 'includes', 'everyone', 'from', 'the', 'ceo', 'to', 'the', 'person', 'who', 'serves', 'tea', 'every', 'role', 'is', 'important', 'hence', 'we', 'need', 'a', 'mind', 'set', 'that', 'reveres', 'everyone', 'who', 'puts', 'in', 'honest', 'work', 'indians', 'become', 'intimate', 'even', 'without', 'being', 'friendly', 'they', 'ask', 'favors', 'of', 'strangers', 'without', 'any', 'hesitation', 'for', 'instance', 'the', 'other', 'day', 'while', 'i', 'was', 'traveling', 'from', 'bangalore', 'to', 'mantralaya', 'i', 'met', 'a', 'fellow', 'traveler', 'on', 'the', 'train', 'hardly', '5', 'minutes', 'into', 'the', 'conversation', 'he', 'requested', 'me', 'to', 'speak', 'to', 'his', 'md', 'about', 'removing', 'him', 'from', 'the', 'bottom', '10', 'list', 'in', 'his', 'company', 'earmarked', 'for', 'disciplinary', 'action', 'i', 'was', 'reminded', 'of', 'what', 'rudyard', 'kipling', 'once', 'said', 'a', 'westerner', 'can', 'be', 'friendly', 'without', 'being', 'intimate', 'while', 'an', 'easterner', 'tends', 'to', 'be', 'intimate', 'without', 'being', 'friendly', 'yet', 'another', 'lesson', 'to', 'be', 'learnt', 'from', 'the', 'west', 'is', 'about', 'their', 'professionalism', 'in', 'dealings', 'the', 'common', 'good', 'being', 'more', 'important', 'than', 'personal', 'equations', 'people', 'do', 'not', 'let', 'personal', 'relations', 'interfere', 'with', 'their', 'professional', 'dealings', 'for', 'instance', 'they', 'dont', 'hesitate', 'to', 'chastise', 'a', 'colleague', 'even', 'if', 'he', 'is', 'a', 'personal', 'friend', 'for', 'incompetent', 'work', 'in', 'india', 'i', 'have', 'seen', 'that', 'we', 'tend', 'to', 'view', 'even', 'work', 'interactions', 'from', 'a', 'personal', 'perspective', 'further', 'we', 'are', 'the', 'most', 'thinskinned', 'society', 'in', 'the', 'world', 'we', 'see', 'insults', 'where', 'none', 'is', 'meant', 'this', 'may', 'be', 'because', 'we', 'were', 'not', 'free', 'for', 'most', 'of', 'the', 'last', 'thousand', 'years', 'further', 'we', 'seem', 'to', 'extend', 'this', 'lack', 'of', 'professionalism', 'to', 'our', 'sense', 'of', 'punctuality', 'we', 'do', 'not', 'seem', 'to', 'respect', 'the', 'other', 'persons', 'time', 'the', 'indian', 'standard', 'time', 'somehow', 'seems', 'to', 'be', 'always', 'running', 'late', 'moreover', 'deadlines', 'are', 'typically', 'not', 'met', 'how', 'many', 'public', 'projects', 'are', 'completed', 'on', 'time', 'the', 'disheartening', 'aspect', 'is', 'that', 'we', 'have', 'accepted', 'this', 'as', 'the', 'norm', 'rather', 'than', 'the', 'exception', 'in', 'the', 'west', 'they', 'show', 'professionalism', 'by', 'embracing', 'meritocracy', 'meritocracy', 'by', 'definition', 'means', 'that', 'we', 'cannot', 'let', 'personal', 'prejudices', 'affect', 'our', 'evaluation', 'of', 'an', 'individuals', 'performance', 'as', 'we', 'increasingly', 'start', 'to', 'benchmark', 'ourselves', 'with', 'global', 'standards', 'we', 'have', 'to', 'embrace', 'meritocracy', 'in', 'the', 'west', 'right', 'from', 'a', 'very', 'young', 'age', 'parents', 'teach', 'their', 'children', 'to', 'be', 'independent', 'in', 'thinking', 'thus', 'they', 'grow', 'up', 'to', 'be', 'strong', 'confident', 'individuals', 'in', 'india', 'we', 'still', 'suffer', 'from', 'feudal', 'thinking', 'i', 'have', 'seen', 'people', 'who', 'are', 'otherwise', 'bright', 'refusing', 'to', 'show', 'independence', 'and', 'preferring', 'to', 'be', 'told', 'what', 'to', 'do', 'by', 'their', 'boss', 'we', 'need', 'to', 'overcome', 'this', 'attitude', 'if', 'we', 'have', 'to', 'succeed', 'globally', 'the', 'western', 'value', 'system', 'teaches', 'respect', 'to', 'contractual', 'obligation', 'in', 'the', 'west', 'contractual', 'obligations', 'are', 'seldom', 'dishonored', 'this', 'is', 'important', 'enforceability', 'of', 'legal', 'rights', 'and', 'contracts', 'is', 'the', 'most', 'important', 'factor', 'in', 'the', 'enhancement', 'of', 'credibility', 'of', 'our', 'people', 'and', 'nation', 'in', 'india', 'we', 'consider', 'our', 'marriage', 'vows', 'as', 'sacred', 'we', 'are', 'willing', 'to', 'sacrifice', 'in', 'order', 'to', 'respect', 'our', 'marriage', 'vows', 'however', 'we', 'do', 'not', 'extend', 'this', 'to', 'the', 'public', 'domain', 'for', 'instance', 'india', 'had', 'an', 'unfavorable', 'contract', 'with', 'enron', 'instead', 'of', 'punishing', 'the', 'people', 'responsible', 'for', 'negotiating', 'this', 'we', 'reneged', 'on', 'the', 'contract', 'this', 'was', 'much', 'before', 'we', 'came', 'to', 'know', 'about', 'the', 'illegal', 'activities', 'at', 'enron', 'to', 'quote', 'another', 'instance', 'i', 'had', 'given', 'recommendations', 'to', 'several', 'students', 'for', 'the', 'national', 'scholarship', 'for', 'higher', 'studies', 'in', 'us', 'universities', 'most', 'of', 'them', 'did', 'not', 'return', 'to', 'india', 'even', 'though', 'contractually', 'they', 'were', 'obliged', 'to', 'spend', 'five', 'years', 'after', 'their', 'degree', 'in', 'india', 'in', 'fact', 'according', 'to', 'a', 'professor', 'at', 'a', 'reputed', 'us', 'university', 'the', 'maximum', 'default', 'rate', 'for', 'student', 'loans', 'is', 'among', 'indians', 'all', 'of', 'these', 'students', 'pass', 'out', 'in', 'flying', 'colors', 'and', 'land', 'lucrative', 'jobs', 'yet', 'they', 'refuse', 'to', 'pay', 'back', 'their', 'loans', 'thus', 'their', 'action', 'has', 'made', 'it', 'difficult', 'for', 'the', 'students', 'after', 'them', 'from', 'india', 'to', 'obtain', 'loans', 'we', 'have', 'to', 'change', 'this', 'attitude', 'further', 'we', 'indians', 'do', 'not', 'display', 'intellectual', 'honesty', 'for', 'example', 'our', 'political', 'leaders', 'use', 'mobile', 'phones', 'to', 'tell', 'journalists', 'on', 'the', 'other', 'side', 'that', 'they', 'do', 'not', 'believe', 'in', 'technology', 'if', 'we', 'want', 'our', 'youngsters', 'to', 'progress', 'such', 'hypocrisy', 'must', 'be', 'stopped', 'we', 'are', 'all', 'aware', 'of', 'our', 'rights', 'as', 'citizens', 'nevertheless', 'we', 'often', 'fail', 'to', 'acknowledge', 'the', 'duty', 'that', 'accompanies', 'every', 'right', 'to', 'borrow', 'dwight', 'eisenhowers', 'words', 'people', 'that', 'values', 'its', 'privileges', 'above', 'its', 'principles', 'soon', 'loses', 'both', 'our', 'duty', 'is', 'towards', 'the', 'community', 'as', 'a', 'whole', 'as', 'much', 'as', 'it', 'is', 'towards', 'our', 'families', 'we', 'have', 'to', 'remember', 'that', 'fundamental', 'social', 'problems', 'grow', 'out', 'of', 'a', 'lack', 'of', 'commitment', 'to', 'the', 'common', 'good', 'to', 'quote', 'henry', 'beecher', 'culture', 'is', 'that', 'which', 'helps', 'us', 'to', 'work', 'for', 'the', 'betterment', 'of', 'all', 'hence', 'friends', 'i', 'do', 'believe', 'that', 'we', 'can', 'make', 'our', 'society', 'even', 'better', 'by', 'assimilating', 'these', 'western', 'values', 'into', 'our', 'own', 'culture', 'we', 'will', 'be', 'stronger', 'for', 'it', 'most', 'of', 'our', 'behavior', 'comes', 'from', 'greed', 'lack', 'of', 'selfconfidence', 'lack', 'of', 'confidence', 'in', 'the', 'nation', 'and', 'lack', 'of', 'respect', 'for', 'the', 'society', 'to', 'borrow', 'gandhis', 'words', 'there', 'is', 'enough', 'in', 'this', 'world', 'for', 'everyones', 'need', 'but', 'not', 'enough', 'for', 'everyones', 'greed', 'let', 'us', 'work', 'towards', 'a', 'society', 'where', 'we', 'would', 'do', 'unto', 'others', 'what', 'we', 'would', 'have', 'others', 'do', 'unto', 'us', 'let', 'us', 'all', 'be', 'responsible', 'citizens', 'who', 'make', 'our', 'country', 'a', 'great', 'place', 'to', 'live', 'in', 'the', 'words', 'of', 'churchill', 'responsibility', 'is', 'the', 'price', 'of', 'greatness', 'we', 'have', 'to', 'extend', 'our', 'family', 'values', 'beyond', 'the', 'boundaries', 'of', 'our', 'home', 'finally', 'let', 'us', 'work', 'towards', 'maximum', 'welfare', 'of', 'the', 'maximum', 'people', 'samasta', 'janaanaam', 'sukhino', 'bhavantu', 'thus', 'let', 'us', 'people', 'of', 'this', 'generation', 'conduct', 'ourselves', 'as', 'great', 'citizens', 'rather', 'than', 'just', 'good', 'people', 'so', 'that', 'we', 'can', 'serve', 'as', 'good', 'examples', 'for', 'our', 'younger', 'generation', 'speaker', 'n', 'r', 'narayana', 'murthy', 'cheers']\n"
     ]
    }
   ],
   "source": [
    "tokenized_text = cleaned_text.split()\n",
    "print(tokenized_text)"
   ]
  },
  {
   "cell_type": "code",
   "execution_count": 6,
   "id": "1540b714",
   "metadata": {},
   "outputs": [],
   "source": [
    "stop_words = [\"i\", \"me\", \"my\", \"myself\", \"we\", \"our\", \"ours\", \"ourselves\", \"you\", \"your\", \"yours\", \"yourself\",\n",
    "              \"yourselves\", \"he\", \"him\", \"his\", \"himself\", \"she\", \"her\", \"hers\", \"herself\", \"it\", \"its\", \"itself\",\n",
    "              \"they\", \"them\", \"their\", \"theirs\", \"themselves\", \"what\", \"which\", \"who\", \"whom\", \"this\", \"that\", \"these\",\n",
    "              \"those\", \"am\", \"is\", \"are\", \"was\", \"were\", \"be\", \"been\", \"being\", \"have\", \"has\", \"had\", \"having\", \"do\",\n",
    "              \"does\", \"did\", \"doing\", \"a\", \"an\", \"the\", \"and\", \"but\", \"if\", \"or\", \"because\", \"as\", \"until\", \"while\",\n",
    "              \"of\", \"at\", \"by\", \"for\", \"with\", \"about\", \"against\", \"between\", \"into\", \"through\", \"during\", \"before\",\n",
    "              \"after\", \"above\", \"below\", \"to\", \"from\", \"up\", \"down\", \"in\", \"out\", \"on\", \"off\", \"over\", \"under\", \"again\",\n",
    "              \"further\", \"then\", \"once\", \"here\", \"there\", \"when\", \"where\", \"why\", \"how\", \"all\", \"any\", \"both\", \"each\",\n",
    "              \"few\", \"more\", \"most\", \"other\", \"some\", \"such\", \"no\", \"nor\", \"not\", \"only\", \"own\", \"same\", \"so\", \"than\",\n",
    "              \"too\", \"very\", \"s\", \"t\", \"can\", \"will\", \"just\", \"don\", \"should\", \"now\", \"also\"]\n",
    "\n",
    "# this is a list of the stopwords which do not give any meaning, this list is manualy generated here but in toolkits (predefined\n",
    "# packages) all the words are contained."
   ]
  },
  {
   "cell_type": "code",
   "execution_count": 7,
   "id": "daf94f06",
   "metadata": {},
   "outputs": [
    {
     "name": "stdout",
     "output_type": "stream",
     "text": [
      "['friends', 'heres', 'inspiring', 'speech', 'narayana', 'murthy', 'lbs', 'institute', 'management', 'please', 'read', 'nr', 'narayana', 'murthy', 'ladies', 'gentlemen', 'pleasure', 'lal', 'bahadur', 'shastri', 'institute', 'management', 'lal', 'bahadur', 'shastri', 'man', 'strong', 'values', 'epitomized', 'simple', 'living', 'freedom', 'fighter', 'innovative', 'administrator', 'contributed', 'nation', 'building', 'full', 'measure', 'indeed', 'matter', 'pride', 'chosen', 'lal', 'bahadur', 'shastri', 'award', 'public', 'administration', 'management', 'sciences', 'thank', 'jury', 'honor', 'got', 'invitation', 'speak', 'decided', 'speak', 'important', 'topic', 'pondered', 'years', 'role', 'western', 'values', 'contemporary', 'indian', 'society', 'coming', 'company', 'built', 'strong', 'values', 'topic', 'close', 'heart', 'moreover', 'organization', 'representative', 'society', 'lessons', 'learnt', 'applicable', 'national', 'context', 'fact', 'values', 'drive', 'progress', 'define', 'quality', 'life', 'society', 'word', 'community', 'joins', 'two', 'latin', 'words', 'com', 'together', 'unus', 'one', 'community', 'one', 'many', 'unified', 'multitude', 'mere', 'group', 'people', 'said', 'vedas', 'man', 'live', 'individually', 'survive', 'collectively', 'hence', 'challenge', 'form', 'progressive', 'community', 'balancing', 'interests', 'individual', 'society', 'meet', 'need', 'develop', 'value', 'system', 'people', 'accept', 'modest', 'sacrifices', 'common', 'good', 'value', 'system', 'protocol', 'behavior', 'enhances', 'trust', 'confidence', 'commitment', 'members', 'community', 'goes', 'beyond', 'domain', 'legality', 'decent', 'desirable', 'behavior', 'includes', 'putting', 'community', 'interests', 'ahead', 'thus', 'collective', 'survival', 'progress', 'predicated', 'sound', 'values', 'two', 'pillars', 'cultural', 'value', 'system', 'loyalty', 'family', 'loyalty', 'community', 'one', 'isolation', 'successful', 'societies', 'combine', 'harmoniously', 'context', 'discuss', 'role', 'western', 'values', 'contemporary', 'indian', 'society', 'might', 'say', 'going', 'discuss', 'actually', 'indian', 'values', 'old', 'ages', 'western', 'values', 'live', 'present', 'bygone', 'era', 'therefore', 'seen', 'values', 'practiced', 'primarily', 'west', 'india', 'hence', 'title', 'topic', 'happy', 'long', 'practice', 'values', 'whether', 'call', 'western', 'old', 'indian', 'values', 'indian', 'proud', 'part', 'culture', 'deeprooted', 'family', 'values', 'tremendous', 'loyalty', 'family', 'instance', 'parents', 'make', 'enormous', 'sacrifices', 'children', 'support', 'stand', 'feet', 'side', 'children', 'consider', 'duty', 'take', 'care', 'aged', 'parents', 'believe', 'mathru', 'devo', 'bhava', 'mother', 'god', 'pithru', 'devo', 'bhava', 'father', 'god', 'brothers', 'sisters', 'sacrifice', 'fact', 'eldest', 'brother', 'sister', 'respected', 'siblings', 'marriage', 'held', 'sacred', 'union', 'husband', 'wife', 'bonded', 'often', 'life', 'joint', 'families', 'entire', 'family', 'works', 'towards', 'welfare', 'family', 'much', 'love', 'affection', 'family', 'life', 'essence', 'indian', 'values', 'one', 'key', 'strengths', 'families', 'act', 'critical', 'support', 'mechanism', 'us', 'fact', 'credit', 'success', 'infosys', 'goes', 'much', 'founders', 'families', 'supporting', 'tough', 'times', 'unfortunately', 'attitude', 'towards', 'family', 'life', 'reflected', 'attitude', 'towards', 'community', 'behavior', 'littering', 'streets', 'corruption', 'breaking', 'contractual', 'obligations', 'apathetic', 'common', 'good', 'west', 'us', 'canada', 'europe', 'australia', 'new', 'zealand', 'individuals', 'understand', 'responsible', 'towards', 'community', 'primary', 'difference', 'west', 'us', 'people', 'much', 'better', 'societal', 'orientation', 'care', 'society', 'generally', 'sacrifice', 'society', 'us', 'quality', 'life', 'enhanced', 'need', 'learn', 'west', 'talk', 'lessons', 'indians', 'learn', 'west', 'west', 'respect', 'public', 'good', 'instance', 'parks', 'free', 'litter', 'clean', 'streets', 'public', 'toilets', 'free', 'graffiti', 'instances', 'care', 'public', 'good', 'contrary', 'india', 'keep', 'houses', 'clean', 'water', 'gardens', 'everyday', 'go', 'park', 'think', 'twice', 'littering', 'place', 'corruption', 'see', 'india', 'another', 'example', 'putting', 'interest', 'oneself', 'best', 'ones', 'family', 'society', 'society', 'relatively', 'corruption', 'free', 'west', 'instance', 'difficult', 'bribe', 'police', 'officer', 'avoiding', 'speeding', 'ticket', 'individuals', 'responsible', 'behavior', 'towards', 'community', 'whole', 'contrary', 'india', 'corruption', 'tax', 'evasion', 'cheating', 'bribery', 'eaten', 'vitals', 'instance', 'contractors', 'bribe', 'officials', 'construct', 'lowquality', 'roads', 'bridges', 'result', 'society', 'loses', 'form', 'substandard', 'defence', 'equipment', 'infrastructure', 'lowquality', 'recruitment', 'name', 'impediments', 'unfortunately', 'behavior', 'condoned', 'almost', 'everyone', 'apathy', 'solving', 'community', 'matters', 'held', 'us', 'back', 'making', 'progress', 'otherwise', 'within', 'reach', 'see', 'serious', 'problems', 'around', 'us', 'try', 'solve', 'behave', 'problems', 'exist', 'somebody', 'elses', 'hand', 'west', 'people', 'solve', 'societal', 'problems', 'proactively', 'several', 'examples', 'apathetic', 'attitude', 'instance', 'us', 'aware', 'problem', 'drought', 'india', '40', 'years', 'ago', 'dr', 'k', 'l', 'rao', 'irrigation', 'expert', 'suggested', 'creation', 'water', 'grid', 'connecting', 'rivers', 'north', 'south', 'india', 'solve', 'problem', 'unfortunately', 'nothing', 'done', 'story', 'power', 'shortage', 'bangalore', 'another', 'instance', '1983', 'decided', 'build', 'thermal', 'power', 'plant', 'meet', 'bangalores', 'power', 'requirements', 'unfortunately', 'still', 'started', 'milan', 'subway', 'bombay', 'deplorable', 'state', 'last', '40', 'years', 'action', 'taken', 'quote', 'another', 'example', 'considering', 'constant', 'travel', 'required', 'software', 'industry', 'five', 'years', 'ago', 'suggested', '240page', 'passport', 'would', 'eliminate', 'frequent', 'visits', 'passport', 'office', 'fact', 'ready', 'pay', 'however', 'yet', 'hear', 'ministry', 'external', 'affairs', 'indians', 'would', 'well', 'remember', 'thomas', 'hunters', 'words', 'idleness', 'travels', 'slowly', 'poverty', 'soon', 'overtakes', 'could', 'reason', 'ruled', 'foreigners', 'thousand', 'years', 'thus', 'always', 'believed', 'public', 'issues', 'belonged', 'foreign', 'ruler', 'role', 'solving', 'moreover', 'lost', 'proactively', 'solve', 'problems', 'thus', 'got', 'used', 'executing', 'someone', 'elses', 'orders', 'borrowing', 'aristotles', 'words', 'repeatedly', 'thus', 'done', 'years', 'decisionmakers', 'society', 'trained', 'solving', 'problems', 'decisionmakers', 'look', 'somebody', 'else', 'take', 'decisions', 'unfortunately', 'nobody', 'look', 'tragedy', 'intellectual', 'arrogance', 'helped', 'society', 'traveled', 'extensively', 'experience', 'come', 'across', 'another', 'society', 'people', 'contemptuous', 'better', 'societies', 'little', 'progress', 'achieved', 'remember', 'arrogance', 'breeds', 'hypocrisy', 'society', 'gloats', 'much', 'past', 'little', 'current', 'accomplishment', 'friends', 'new', 'phenomenon', 'least', 'thousand', 'years', 'old', 'instance', 'al', 'barouni', 'famous', 'arabic', 'logician', 'traveler', '10th', 'century', 'spent', '30', 'years', 'india', '997', 'ad', 'around', '1027', 'ad', 'referred', 'trait', 'indians', 'according', 'visit', 'indian', 'pundits', 'considered', 'dignity', 'even', 'hold', 'arguments', 'fact', 'occasions', 'pundit', 'willing', 'listen', 'hm', 'found', 'arguments', 'sound', 'invariably', 'asked', 'barouni', 'indian', 'pundit', 'taught', 'smart', 'things', 'important', 'attribute', 'progressive', 'society', 'respect', 'others', 'accomplished', 'learn', 'contrary', 'leaders', 'make', 'us', 'believe', 'societies', 'know', 'anything', 'time', 'everyday', 'newspapers', 'find', 'numerous', 'claims', 'leaders', 'greatest', 'nation', 'people', 'would', 'well', 'remember', 'thomas', 'carlyles', 'words', 'greatest', 'faults', 'conscious', 'none', 'progress', 'change', 'attitude', 'listen', 'people', 'performed', 'better', 'us', 'learn', 'perform', 'better', 'infosys', 'good', 'example', 'attitude', 'continue', 'rationalize', 'failures', 'society', 'mastered', 'part', 'well', 'obviously', 'excuse', 'justify', 'incompetence', 'corruption', 'apathy', 'attitude', 'change', 'sir', 'josiah', 'stamp', 'said', 'easy', 'dodge', 'responsibilities', 'cannot', 'dodge', 'consequences', 'dodging', 'responsibilities', 'another', 'interesting', 'attribute', 'indians', 'learn', 'west', 'accountability', 'irrespective', 'position', 'west', 'held', 'accountable', 'however', 'india', 'important', 'less', 'answerable', 'instance', 'senior', 'politician', 'declared', 'forgot', 'file', 'tax', 'returns', '10', 'consecutive', 'years', 'got', 'away', 'quote', 'another', 'instance', '100', 'loss', 'making', 'public', 'sector', 'units', 'central', 'india', 'nevertheless', 'seen', 'action', 'taken', 'bad', 'performance', 'top', 'managers', 'organizations', 'dignity', 'labor', 'integral', 'part', 'western', 'value', 'system', 'west', 'person', 'proud', 'labor', 'raises', 'honest', 'sweat', 'hand', 'india', 'tend', 'overlook', 'significance', 'professional', 'jobs', 'mind', 'set', 'reveres', 'supposedly', 'intellectual', 'work', 'instance', 'seen', 'many', 'engineers', 'fresh', 'college', 'want', 'cuttingedge', 'work', 'work', 'relevance', 'business', 'country', 'however', 'organization', 'society', 'different', 'people', 'performing', 'different', 'roles', 'success', 'people', 'required', 'discharge', 'duties', 'includes', 'everyone', 'ceo', 'person', 'serves', 'tea', 'every', 'role', 'important', 'hence', 'need', 'mind', 'set', 'reveres', 'everyone', 'puts', 'honest', 'work', 'indians', 'become', 'intimate', 'even', 'without', 'friendly', 'ask', 'favors', 'strangers', 'without', 'hesitation', 'instance', 'day', 'traveling', 'bangalore', 'mantralaya', 'met', 'fellow', 'traveler', 'train', 'hardly', '5', 'minutes', 'conversation', 'requested', 'speak', 'md', 'removing', 'bottom', '10', 'list', 'company', 'earmarked', 'disciplinary', 'action', 'reminded', 'rudyard', 'kipling', 'said', 'westerner', 'friendly', 'without', 'intimate', 'easterner', 'tends', 'intimate', 'without', 'friendly', 'yet', 'another', 'lesson', 'learnt', 'west', 'professionalism', 'dealings', 'common', 'good', 'important', 'personal', 'equations', 'people', 'let', 'personal', 'relations', 'interfere', 'professional', 'dealings', 'instance', 'dont', 'hesitate', 'chastise', 'colleague', 'even', 'personal', 'friend', 'incompetent', 'work', 'india', 'seen', 'tend', 'view', 'even', 'work', 'interactions', 'personal', 'perspective', 'thinskinned', 'society', 'world', 'see', 'insults', 'none', 'meant', 'may', 'free', 'last', 'thousand', 'years', 'seem', 'extend', 'lack', 'professionalism', 'sense', 'punctuality', 'seem', 'respect', 'persons', 'time', 'indian', 'standard', 'time', 'somehow', 'seems', 'always', 'running', 'late', 'moreover', 'deadlines', 'typically', 'met', 'many', 'public', 'projects', 'completed', 'time', 'disheartening', 'aspect', 'accepted', 'norm', 'rather', 'exception', 'west', 'show', 'professionalism', 'embracing', 'meritocracy', 'meritocracy', 'definition', 'means', 'cannot', 'let', 'personal', 'prejudices', 'affect', 'evaluation', 'individuals', 'performance', 'increasingly', 'start', 'benchmark', 'global', 'standards', 'embrace', 'meritocracy', 'west', 'right', 'young', 'age', 'parents', 'teach', 'children', 'independent', 'thinking', 'thus', 'grow', 'strong', 'confident', 'individuals', 'india', 'still', 'suffer', 'feudal', 'thinking', 'seen', 'people', 'otherwise', 'bright', 'refusing', 'show', 'independence', 'preferring', 'told', 'boss', 'need', 'overcome', 'attitude', 'succeed', 'globally', 'western', 'value', 'system', 'teaches', 'respect', 'contractual', 'obligation', 'west', 'contractual', 'obligations', 'seldom', 'dishonored', 'important', 'enforceability', 'legal', 'rights', 'contracts', 'important', 'factor', 'enhancement', 'credibility', 'people', 'nation', 'india', 'consider', 'marriage', 'vows', 'sacred', 'willing', 'sacrifice', 'order', 'respect', 'marriage', 'vows', 'however', 'extend', 'public', 'domain', 'instance', 'india', 'unfavorable', 'contract', 'enron', 'instead', 'punishing', 'people', 'responsible', 'negotiating', 'reneged', 'contract', 'much', 'came', 'know', 'illegal', 'activities', 'enron', 'quote', 'another', 'instance', 'given', 'recommendations', 'several', 'students', 'national', 'scholarship', 'higher', 'studies', 'us', 'universities', 'return', 'india', 'even', 'though', 'contractually', 'obliged', 'spend', 'five', 'years', 'degree', 'india', 'fact', 'according', 'professor', 'reputed', 'us', 'university', 'maximum', 'default', 'rate', 'student', 'loans', 'among', 'indians', 'students', 'pass', 'flying', 'colors', 'land', 'lucrative', 'jobs', 'yet', 'refuse', 'pay', 'back', 'loans', 'thus', 'action', 'made', 'difficult', 'students', 'india', 'obtain', 'loans', 'change', 'attitude', 'indians', 'display', 'intellectual', 'honesty', 'example', 'political', 'leaders', 'use', 'mobile', 'phones', 'tell', 'journalists', 'side', 'believe', 'technology', 'want', 'youngsters', 'progress', 'hypocrisy', 'must', 'stopped', 'aware', 'rights', 'citizens', 'nevertheless', 'often', 'fail', 'acknowledge', 'duty', 'accompanies', 'every', 'right', 'borrow', 'dwight', 'eisenhowers', 'words', 'people', 'values', 'privileges', 'principles', 'soon', 'loses', 'duty', 'towards', 'community', 'whole', 'much', 'towards', 'families', 'remember', 'fundamental', 'social', 'problems', 'grow', 'lack', 'commitment', 'common', 'good', 'quote', 'henry', 'beecher', 'culture', 'helps', 'us', 'work', 'betterment', 'hence', 'friends', 'believe', 'make', 'society', 'even', 'better', 'assimilating', 'western', 'values', 'culture', 'stronger', 'behavior', 'comes', 'greed', 'lack', 'selfconfidence', 'lack', 'confidence', 'nation', 'lack', 'respect', 'society', 'borrow', 'gandhis', 'words', 'enough', 'world', 'everyones', 'need', 'enough', 'everyones', 'greed', 'let', 'us', 'work', 'towards', 'society', 'would', 'unto', 'others', 'would', 'others', 'unto', 'us', 'let', 'us', 'responsible', 'citizens', 'make', 'country', 'great', 'place', 'live', 'words', 'churchill', 'responsibility', 'price', 'greatness', 'extend', 'family', 'values', 'beyond', 'boundaries', 'home', 'finally', 'let', 'us', 'work', 'towards', 'maximum', 'welfare', 'maximum', 'people', 'samasta', 'janaanaam', 'sukhino', 'bhavantu', 'thus', 'let', 'us', 'people', 'generation', 'conduct', 'great', 'citizens', 'rather', 'good', 'people', 'serve', 'good', 'examples', 'younger', 'generation', 'speaker', 'n', 'r', 'narayana', 'murthy', 'cheers']\n"
     ]
    }
   ],
   "source": [
    "final_words = []\n",
    "for word in tokenized_text:\n",
    "    if word not in stop_words:\n",
    "        final_words.append(word)\n",
    "    \n",
    "print(final_words)"
   ]
  },
  {
   "cell_type": "markdown",
   "id": "7f0ea3eb",
   "metadata": {},
   "source": [
    "Here we have generated a list of all meaning full words (as this is manual project there are very few stop words so some words which do not give much meaning are also in the final words list.)"
   ]
  },
  {
   "cell_type": "markdown",
   "id": "7f6f2c3d",
   "metadata": {},
   "source": [
    "# Adding Emotions\n",
    "here we have a list of words corresponding to their emotions (like to be emotions),file name emotions.txt. These emotions will help us to finaly get the emotion of the text that is present.\n",
    "\n",
    "for instance we can see that the word \"well\" has emotion of happiness though it can be also used in case such as \"banana as well as mangos\". therefore there is no meaningfull emotion in this particular example. For our convinece we can remove or add a word and its emotion manually."
   ]
  },
  {
   "cell_type": "code",
   "execution_count": null,
   "id": "b7da6c8b",
   "metadata": {},
   "outputs": [],
   "source": [
    "#extracting the words by clearing the text\n",
    "\"\"\"\n",
    "with open('emotion.txt','r') as file:\n",
    "    for line in file:\n",
    "        clear_line = line.replace(\"\\n\",\"\").replace(\",\",\"\").replace(\"'\",\"\").strip()\n",
    "        word, emotion = clear_line.split(':')\n",
    "        print(word+\" \"+emotion)\n",
    "        \"\"\"\n",
    "        \n",
    "#using a loop to iterate through every line, naming the line clear_line and performing following funtions simultaneouly\n",
    "# replacing blank line with null\n",
    "# replacing , (comma) with null\n",
    "# replacing single quote with null\n",
    "# and strip is removing and space in front or back\n",
    "# then converting the text into two lists, one for words, and other for emotion using split funtion."
   ]
  },
  {
   "cell_type": "code",
   "execution_count": 9,
   "id": "056829f3",
   "metadata": {},
   "outputs": [
    {
     "name": "stdout",
     "output_type": "stream",
     "text": [
      "['apathetic', 'bright', 'common', 'confident', 'desirable', 'right', 'free', 'happy', 'important', 'independent', 'lost', 'proud', 'respected', 'responsible', 'strong', 'accepted', 'apathetic', 'great', 'inspiring']\n",
      "[' bored', ' happy', ' average', ' adequate', ' loved', ' powerful', ' free', ' happy', ' happy', ' free', ' lost', ' happy', ' esteemed', ' adequate', ' independent', ' loved', ' apathetic', ' happy', ' attracted']\n"
     ]
    }
   ],
   "source": [
    "#making a list of emotion which occur in our text, the idea is if the word has occured in the text then its corresponding emotion \n",
    "#will be counted.\n",
    "\n",
    "emotion_list = []\n",
    "word_list = []\n",
    "with open('emotion.txt','r') as file:\n",
    "    for line in file:\n",
    "        clear_line = line.replace(\"\\n\",\"\").replace(\",\",\"\").replace(\"'\",\"\").strip()\n",
    "        word, emotion = clear_line.split(':')\n",
    "        if word in final_words:\n",
    "            word_list.append(word)\n",
    "            emotion_list.append(emotion)\n",
    "\n",
    "print(word_list)\n",
    "print(emotion_list)"
   ]
  },
  {
   "cell_type": "markdown",
   "id": "b5e05bb4",
   "metadata": {},
   "source": [
    "# Counting emotions\n",
    "now as we have generated the list of occurance of emotions lets count them to see the effectiveness of all the emotions"
   ]
  },
  {
   "cell_type": "code",
   "execution_count": 10,
   "id": "7c24bf62",
   "metadata": {},
   "outputs": [
    {
     "name": "stdout",
     "output_type": "stream",
     "text": [
      "Counter({' happy': 5, ' adequate': 2, ' loved': 2, ' free': 2, ' bored': 1, ' average': 1, ' powerful': 1, ' lost': 1, ' esteemed': 1, ' independent': 1, ' apathetic': 1, ' attracted': 1})\n"
     ]
    }
   ],
   "source": [
    "from collections import Counter\n",
    "count = Counter(emotion_list)\n",
    "print(count)"
   ]
  },
  {
   "cell_type": "markdown",
   "id": "c86d81be",
   "metadata": {},
   "source": [
    "# Ploting the emotions"
   ]
  },
  {
   "cell_type": "code",
   "execution_count": 11,
   "id": "c41522a3",
   "metadata": {},
   "outputs": [
    {
     "data": {
      "image/png": "[encoded data removed]",
      "text/plain": [
       "<Figure size 640x480 with 1 Axes>"
      ]
     },
     "metadata": {},
     "output_type": "display_data"
    }
   ],
   "source": [
    "import matplotlib.pyplot as plt\n",
    "plt.bar(count.keys(),count.values())\n",
    "plt.xticks(rotation = 90)\n",
    "plt.show()"
   ]
  },
  {
   "cell_type": "code",
   "execution_count": null,
   "id": "017784e4",
   "metadata": {},
   "outputs": [],
   "source": []
  }
 ],
 "metadata": {
  "kernelspec": {
   "display_name": "Python 3 (ipykernel)",
   "language": "python",
   "name": "python3"
  },
  "language_info": {
   "codemirror_mode": {
    "name": "ipython",
    "version": 3
   },
   "file_extension": ".py",
   "mimetype": "text/x-python",
   "name": "python",
   "nbconvert_exporter": "python",
   "pygments_lexer": "ipython3",
   "version": "3.9.13"
  }
 },
 "nbformat": 4,
 "nbformat_minor": 5
}
